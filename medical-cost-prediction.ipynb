{
 "cells": [
  {
   "cell_type": "markdown",
   "id": "565b2360",
   "metadata": {},
   "source": [
    "# Previsão de Custos Médicos com Regressão Linear"
   ]
  },
  {
   "cell_type": "markdown",
   "id": "2a935802",
   "metadata": {},
   "source": [
    "Este notebook tem como objetivo desenvolver um modelo de regressão capaz de prever o valor dos custos médicos individuais cobrados pelo seguro de saúde, com base em características como idade, gênero, IMC, número de filhos, hábito de fumar e região.\n",
    "\n",
    "As etapas seguidas incluem:\n",
    "- Exploração dos dados\n",
    "- Pré-processamento\n",
    "- Modelagem e avaliação\n",
    "- Validação estatística\n",
    "- Visualizações e relatório final"
   ]
  },
  {
   "cell_type": "code",
   "execution_count": null,
   "id": "f1b1f7cf",
   "metadata": {},
   "outputs": [],
   "source": [
    "from google.colab import files\n",
    "uploaded = files.upload()"
   ]
  },
  {
   "cell_type": "code",
   "execution_count": null,
   "id": "14c934c2",
   "metadata": {},
   "outputs": [],
   "source": [
    "import pandas as pd\n",
    "\n",
    "df = pd.read_csv(\"dados_custos_medicos_simulados.csv\")\n",
    "df.head()"
   ]
  },
  {
   "cell_type": "code",
   "execution_count": null,
   "id": "192256ca",
   "metadata": {},
   "outputs": [],
   "source": [
    "df.info()\n",
    "df.describe()"
   ]
  },
  {
   "cell_type": "code",
   "execution_count": null,
   "id": "e960d056",
   "metadata": {},
   "outputs": [],
   "source": [
    "import matplotlib.pyplot as plt\n",
    "import seaborn as sns\n",
    "\n",
    "plt.figure(figsize=(8, 5))\n",
    "sns.histplot(df[\"encargos\"], kde=True)\n",
    "plt.title(\"Distribuição dos Encargos\")\n",
    "plt.show()"
   ]
  },
  {
   "cell_type": "code",
   "execution_count": null,
   "id": "b5bdd355",
   "metadata": {},
   "outputs": [],
   "source": [
    "df.columns = ['idade', 'genero', 'imc', 'filhos', 'fumante', 'regiao', 'encargos']"
   ]
  },
  {
   "cell_type": "code",
   "execution_count": null,
   "id": "ec5f551d",
   "metadata": {},
   "outputs": [],
   "source": [
    "df.isnull().sum()"
   ]
  },
  {
   "cell_type": "code",
   "execution_count": null,
   "id": "e8f5095b",
   "metadata": {},
   "outputs": [],
   "source": [
    "df = df.replace({\n",
    "    'genero': {'feminino': 'female', 'masculino': 'male'},\n",
    "    'fumante': {'sim': 'yes', 'não': 'no'},\n",
    "    'regiao': {'sudeste': 'southeast', 'sudoeste': 'southwest',\n",
    "               'nordeste': 'northeast', 'noroeste': 'northwest'}\n",
    "})"
   ]
  },
  {
   "cell_type": "code",
   "execution_count": null,
   "id": "ca67a195",
   "metadata": {},
   "outputs": [],
   "source": [
    "from sklearn.model_selection import train_test_split\n",
    "from sklearn.linear_model import LinearRegression\n",
    "from sklearn.metrics import mean_squared_error, mean_absolute_error, r2_score\n",
    "from sklearn.preprocessing import OneHotEncoder, StandardScaler\n",
    "from sklearn.compose import ColumnTransformer\n",
    "from sklearn.pipeline import Pipeline\n",
    "\n",
    "X = df.drop(\"encargos\", axis=1)\n",
    "y = df[\"encargos\"]\n",
    "\n",
    "num_atributos = [\"idade\", \"imc\", \"filhos\"]\n",
    "cat_atributos = [\"genero\", \"fumante\", \"regiao\"]\n",
    "\n",
    "preprocessador = ColumnTransformer(transformers=[\n",
    "    (\"num\", StandardScaler(), num_atributos),\n",
    "    (\"cat\", OneHotEncoder(), cat_atributos)\n",
    "])\n",
    "\n",
    "modelo = Pipeline(steps=[\n",
    "    (\"preprocessador\", preprocessador),\n",
    "    (\"regressor\", LinearRegression())\n",
    "])\n",
    "\n",
    "X_train, X_test, y_train, y_test = train_test_split(X, y, test_size=0.2, random_state=42)\n",
    "\n",
    "modelo.fit(X_train, y_train)\n",
    "y_pred = modelo.predict(X_test)"
   ]
  },
  {
   "cell_type": "code",
   "execution_count": null,
   "id": "77b28cbd",
   "metadata": {},
   "outputs": [],
   "source": [
    "print(\"MAE:\", mean_absolute_error(y_test, y_pred))\n",
    "print(\"RMSE:\", mean_squared_error(y_test, y_pred, squared=False))\n",
    "print(\"R²:\", r2_score(y_test, y_pred))"
   ]
  },
  {
   "cell_type": "code",
   "execution_count": null,
   "id": "1de24c7d",
   "metadata": {},
   "outputs": [],
   "source": [
    "plt.figure(figsize=(8,6))\n",
    "sns.scatterplot(x=y_test, y=y_pred)\n",
    "plt.xlabel(\"Encargos reais\")\n",
    "plt.ylabel(\"Encargos previstos\")\n",
    "plt.title(\"Previsões vs. Reais\")\n",
    "plt.plot([y.min(), y.max()], [y.min(), y.max()], 'r--')\n",
    "plt.show()"
   ]
  },
  {
   "cell_type": "code",
   "execution_count": null,
   "id": "39680447",
   "metadata": {},
   "outputs": [],
   "source": [
    "import statsmodels.api as sm\n",
    "\n",
    "X_ = pd.get_dummies(X, drop_first=True)\n",
    "X_train_, X_test_, y_train_, y_test_ = train_test_split(X_, y, test_size=0.2, random_state=42)\n",
    "\n",
    "X_train_sm = sm.add_constant(X_train_)\n",
    "ols_model = sm.OLS(y_train_, X_train_sm).fit()\n",
    "print(ols_model.summary())"
   ]
  },
  {
   "cell_type": "markdown",
   "id": "d540321d",
   "metadata": {},
   "source": [
    "## Conclusão\n",
    "\n",
    "Com base nos resultados:\n",
    "- O modelo apresentou uma boa capacidade preditiva com base no R².\n",
    "- As variáveis mais influentes nos custos são o hábito de fumar e o IMC.\n",
    "- O modelo pode ser utilizado como base para estimativas de seguros médicos individuais.\n",
    "\n",
    "É possível aprimorar o modelo com mais dados e com modelos mais robustos como Árvores de Regressão, Random Forest ou XGBoost."
   ]
  }
 ],
 "metadata": {},
 "nbformat": 4,
 "nbformat_minor": 5
}
